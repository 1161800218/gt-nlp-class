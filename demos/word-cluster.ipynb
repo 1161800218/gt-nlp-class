{
 "metadata": {
  "name": ""
 },
 "nbformat": 3,
 "nbformat_minor": 0,
 "worksheets": [
  {
   "cells": [
    {
     "cell_type": "markdown",
     "metadata": {},
     "source": [
      "Demo of word sense clustering using expectation-maximization.\n",
      "\n",
      "By Jacob Eisenstein in 2013\n",
      "\n",
      "For Georgia Tech CS7650, Natural Language Understanding"
     ]
    },
    {
     "cell_type": "code",
     "collapsed": false,
     "input": [
      "import nltk\n",
      "from nltk.corpus import reuters, webtext, brown\n",
      "from collections import defaultdict\n",
      "import operator\n",
      "import numpy as np\n",
      "from scipy.misc import logsumexp\n",
      "from scipy.sparse import dok_matrix, csr_matrix"
     ],
     "language": "python",
     "metadata": {},
     "outputs": [],
     "prompt_number": 1
    },
    {
     "cell_type": "code",
     "collapsed": false,
     "input": [
      "def buildCorpus(query,corpus=brown):\n",
      "    alldicts = []\n",
      "    allwords = set()\n",
      "    for fileid in corpus.fileids():\n",
      "        words = [x.lower() for x in corpus.words(fileid)]\n",
      "        if query in words:\n",
      "            counts = defaultdict(int)\n",
      "            for word in words:\n",
      "                counts[word] += 1\n",
      "                allwords.add(word)\n",
      "            alldicts.append(counts)\n",
      "    return allwords,alldicts"
     ],
     "language": "python",
     "metadata": {},
     "outputs": [],
     "prompt_number": 2
    },
    {
     "cell_type": "code",
     "collapsed": false,
     "input": [
      "allwords,alldicts = buildCorpus('lead',corpus=reuters)"
     ],
     "language": "python",
     "metadata": {},
     "outputs": [],
     "prompt_number": 3
    },
    {
     "cell_type": "code",
     "collapsed": false,
     "input": [
      "#parameters\n",
      "D = 500\n",
      "Dmin = 100\n",
      "N = len(alldicts) #num instances\n",
      "K = 2 #num classes\n",
      "alpha = 1.0 #smoothing\n",
      "print D,Dmin,N,K,alpha"
     ],
     "language": "python",
     "metadata": {},
     "outputs": [
      {
       "output_type": "stream",
       "stream": "stdout",
       "text": [
        "500 100 218 2 1.0\n"
       ]
      }
     ],
     "prompt_number": 21
    },
    {
     "cell_type": "code",
     "collapsed": false,
     "input": [
      "#compute total counts for each word\n",
      "totcounts = defaultdict(int)\n",
      "for doc in alldicts:\n",
      "    for word,count in doc.items():\n",
      "        totcounts[word] += count\n",
      "sorted_words = sorted(totcounts.iteritems(),key=operator.itemgetter(1),reverse=True)"
     ],
     "language": "python",
     "metadata": {},
     "outputs": [],
     "prompt_number": 22
    },
    {
     "cell_type": "markdown",
     "metadata": {},
     "source": [
      "Compute vocabulary and inverse vocabulary (string-to-index)"
     ]
    },
    {
     "cell_type": "code",
     "collapsed": false,
     "input": [
      "vocab = {i:j for i,j in zip([x[0] for x in sorted_words[Dmin:Dmin+D]],range(D))}\n",
      "ivocab = {j:i for i,j in vocab.items()}"
     ],
     "language": "python",
     "metadata": {},
     "outputs": [],
     "prompt_number": 23
    },
    {
     "cell_type": "markdown",
     "metadata": {},
     "source": [
      "Build sparse matrix for data"
     ]
    },
    {
     "cell_type": "code",
     "collapsed": false,
     "input": [
      "x_dok = dok_matrix((N,D))\n",
      "for i,doc in enumerate(alldicts):\n",
      "    for word,count in doc.items():\n",
      "        if word in vocab:\n",
      "            x_dok[i,vocab[word]] = count\n",
      "x = x_dok.tocsr()"
     ],
     "language": "python",
     "metadata": {},
     "outputs": [],
     "prompt_number": 24
    },
    {
     "cell_type": "markdown",
     "metadata": {},
     "source": [
      "Utility functions"
     ]
    },
    {
     "cell_type": "code",
     "collapsed": false,
     "input": [
      "def normalizeRows(x):\n",
      "    row_sums = x.sum(axis=1)\n",
      "    return x / row_sums[:,numpy.newaxis]\n",
      "\n",
      "def logNormalizeRows(x):\n",
      "    out = zeros(x.shape)\n",
      "    for i,xi in enumerate(x): #rows\n",
      "        out[i,:] = xi - logsumexp(xi)\n",
      "    return out"
     ],
     "language": "python",
     "metadata": {},
     "outputs": [],
     "prompt_number": 25
    },
    {
     "cell_type": "markdown",
     "metadata": {},
     "source": [
      "Expectation maximization steps\n",
      "\n",
      "$\\phi \\propto q(y)' \\vec{x} + \\alpha$\n",
      "\n",
      "$\\theta \\propto \\sum q(y)$\n",
      "\n",
      "$q(y) \\propto \\exp \\left( (\\log \\phi)' \\vec{x} + \\log\\theta \\right)$ "
     ]
    },
    {
     "cell_type": "code",
     "collapsed": false,
     "input": [
      "def mStep(x,qy,alpha=alpha):\n",
      "    theta = np.log(qy.sum(axis=0)) #just add 'em up\n",
      "    phi = np.log(normalizeRows(x.T.dot(qy).T+alpha))\n",
      "    return phi,theta"
     ],
     "language": "python",
     "metadata": {},
     "outputs": [],
     "prompt_number": 26
    },
    {
     "cell_type": "code",
     "collapsed": false,
     "input": [
      "def eStep(x,phi,theta):\n",
      "    qy = np.exp(logNormalizeRows(x.dot(phi.T) + theta))\n",
      "    return qy"
     ],
     "language": "python",
     "metadata": {},
     "outputs": [],
     "prompt_number": 27
    },
    {
     "cell_type": "markdown",
     "metadata": {},
     "source": [
      "Run it\n",
      "\n",
      "Initialize with random $q(y)$"
     ]
    },
    {
     "cell_type": "code",
     "collapsed": false,
     "input": [
      "#initialize\n",
      "qy = np.random.rand(N,K)\n",
      "phi,theta = mStep(x,qy,alpha = .1)"
     ],
     "language": "python",
     "metadata": {},
     "outputs": [],
     "prompt_number": 49
    },
    {
     "cell_type": "code",
     "collapsed": false,
     "input": [
      "#show status\n",
      "plt.scatter(phi[0,:],phi[1,:])\n",
      "xlabel('cluster 1')\n",
      "ylabel('cluster 2')\n",
      "print qy.sum(axis=0)\n",
      "print [ivocab[i] for i in (phi[1,:] - phi[0,:]).argsort()[::-1][:10]]\n",
      "print [ivocab[i] for i in (phi[0,:] - phi[1,:]).argsort()[::-1][:10]]\n",
      "\n",
      "#do iteration\n",
      "qy = eStep(x,phi,theta)\n",
      "phi,theta = mStep(x,qy,alpha=.1)"
     ],
     "language": "python",
     "metadata": {},
     "outputs": [
      {
       "output_type": "stream",
       "stream": "stdout",
       "text": [
        "[  90.42156002  127.57843998]\n",
        "['gold', 'pound', 'gm', 'cts', '1988', 'forecast', 'dome', 'dealers', 'bp', 'bond']\n",
        "['locals', 'gatt', 'poehl', 'commission', 'trail', 'congress', 'retaliation', '),', 'saudi', 'china']\n"
       ]
      },
      {
       "metadata": {},
       "output_type": "display_data",
       "png": "[encoded data removed]",
       "text": [
        "<matplotlib.figure.Figure at 0x5916710>"
       ]
      }
     ],
     "prompt_number": 65
    }
   ],
   "metadata": {}
  }
 ]
}